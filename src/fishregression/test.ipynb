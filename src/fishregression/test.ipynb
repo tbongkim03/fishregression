{
 "cells": [
  {
   "cell_type": "markdown",
   "metadata": {},
   "source": [
    "## 회귀분석 연습\n",
    "회귀분석 모델은 수치적 가치를 추정한다는 측면에서 관측치가 어느 범주에 속하는지를 식별하는 분류 모델과 다르다. 회귀분석은 예측, 시계열 모델링 및 변수간 인과관계 발견 등에 주로 사용된다.\n",
    "\n",
    "생선의 크기나 길이를 보고 생선의 무게를 예측하는 문제도 다룰 수 있다. 이처럼 클래스 중 하나로 분류하는 것이 아니라 임의의 어떤 숫자를 예측하는 문제를 회귀 라고 한다. 그중 KNN 알고리즘은 주변의 가장 가까운 샘플을 기준으로 새로 들어온 데이터를 어떤 클래스로 분류할 것인지 나타내는 방법이다.\n",
    "\n",
    "회귀분석의 응용 분야(연속수치를 가지는 모든 분야에서 필수적이다.)\n",
    "\n",
    "- 금융관련 예측\n",
    "- 판매 및 프로모션 예측\n",
    "- 자동차 테스트\n",
    "- 날씨분석 및 예측\n",
    "- 시계열 예측\n",
    "이런 회귀분석중 선형회귀를 다뤄볼 예정이다."
   ]
  },
  {
   "cell_type": "code",
   "execution_count": 2,
   "metadata": {},
   "outputs": [],
   "source": [
    "import numpy as np\n",
    "perch_length = np.array(\n",
    "    [8.4, 13.7, 15.0, 16.2, 17.4, 18.0, 18.7, 19.0, 19.6, 20.0,\n",
    "     21.0, 21.0, 21.0, 21.3, 22.0, 22.0, 22.0, 22.0, 22.0, 22.5,\n",
    "     22.5, 22.7, 23.0, 23.5, 24.0, 24.0, 24.6, 25.0, 25.6, 26.5,\n",
    "     27.3, 27.5, 27.5, 27.5, 28.0, 28.7, 30.0, 32.8, 34.5, 35.0,\n",
    "     36.5, 36.0, 37.0, 37.0, 39.0, 39.0, 39.0, 40.0, 40.0, 40.0,\n",
    "     40.0, 42.0, 43.0, 43.0, 43.5, 44.0]\n",
    "     )\n",
    "perch_weight = np.array(\n",
    "    [5.9, 32.0, 40.0, 51.5, 70.0, 100.0, 78.0, 80.0, 85.0, 85.0,\n",
    "     110.0, 115.0, 125.0, 130.0, 120.0, 120.0, 130.0, 135.0, 110.0,\n",
    "     130.0, 150.0, 145.0, 150.0, 170.0, 225.0, 145.0, 188.0, 180.0,\n",
    "     197.0, 218.0, 300.0, 260.0, 265.0, 250.0, 250.0, 300.0, 320.0,\n",
    "     514.0, 556.0, 840.0, 685.0, 700.0, 700.0, 690.0, 900.0, 650.0,\n",
    "     820.0, 850.0, 900.0, 1015.0, 820.0, 1100.0, 1000.0, 1100.0,\n",
    "     1000.0, 1000.0]\n",
    "     )"
   ]
  },
  {
   "cell_type": "code",
   "execution_count": 3,
   "metadata": {},
   "outputs": [
    {
     "data": {
      "image/png": "[encoded data removed]",
      "text/plain": [
       "<Figure size 640x480 with 1 Axes>"
      ]
     },
     "metadata": {},
     "output_type": "display_data"
    }
   ],
   "source": [
    "import matplotlib.pyplot as plt\n",
    "plt.scatter(perch_length,perch_weight)\n",
    "plt.xlabel(\"length\")\n",
    "plt.ylabel(\"weight\")\n",
    "plt.show()"
   ]
  },
  {
   "cell_type": "code",
   "execution_count": 4,
   "metadata": {},
   "outputs": [
    {
     "name": "stdout",
     "output_type": "stream",
     "text": [
      "(56,)\n",
      "(56,)\n"
     ]
    }
   ],
   "source": [
    "len(perch_length)\n",
    "len(perch_weight)\n",
    "print(perch_length.shape)\n",
    "print(perch_weight.shape)"
   ]
  },
  {
   "cell_type": "code",
   "execution_count": 5,
   "metadata": {},
   "outputs": [
    {
     "name": "stdout",
     "output_type": "stream",
     "text": [
      "(42,) (14,)\n"
     ]
    }
   ],
   "source": [
    "from sklearn.model_selection import train_test_split\n",
    "train_input, test_input, train_target, test_target = train_test_split(perch_length, perch_weight, random_state=42)\n",
    "print(train_input.shape, test_input.shape)"
   ]
  },
  {
   "cell_type": "markdown",
   "metadata": {},
   "source": [
    "### **훈련**\n",
    "[KNR url](https://scikit-learn.org/stable/modules/generated/sklearn.neighbors.KNeighborsRegressor.html)"
   ]
  },
  {
   "cell_type": "code",
   "execution_count": 7,
   "metadata": {},
   "outputs": [],
   "source": [
    "from sklearn.neighbors import KNeighborsRegressor"
   ]
  },
  {
   "cell_type": "code",
   "execution_count": 8,
   "metadata": {},
   "outputs": [],
   "source": [
    "def knrtest(n):\n",
    "    knr = KNeighborsRegressor(n_neighbors=n)\n",
    "    knr.fit(train_input, train_target)"
   ]
  },
  {
   "cell_type": "code",
   "execution_count": 31,
   "metadata": {},
   "outputs": [
    {
     "data": {
      "text/plain": [
       "array([19.6, 22. , 18.7, 17.4, 36. , 25. , 40. , 39. , 43. , 22. , 20. ,\n",
       "       22. , 24. , 27.5, 43. , 40. , 24. , 21. , 27.5, 40. , 32.8, 26.5,\n",
       "       36.5, 13.7, 22.7, 15. , 37. , 35. , 28.7, 23.5, 39. , 21. , 23. ,\n",
       "       22. , 44. , 22.5, 19. , 37. , 22. , 25.6, 42. , 34.5])"
      ]
     },
     "execution_count": 31,
     "metadata": {},
     "output_type": "execute_result"
    }
   ],
   "source": [
    "train_input"
   ]
  },
  {
   "cell_type": "code",
   "execution_count": 14,
   "metadata": {},
   "outputs": [
    {
     "data": {
      "text/plain": [
       "array([  85.,  135.,   78.,   70.,  700.,  180.,  850.,  820., 1000.,\n",
       "        120.,   85.,  130.,  225.,  260., 1100.,  900.,  145.,  115.,\n",
       "        265., 1015.,  514.,  218.,  685.,   32.,  145.,   40.,  690.,\n",
       "        840.,  300.,  170.,  650.,  110.,  150.,  110., 1000.,  150.,\n",
       "         80.,  700.,  120.,  197., 1100.,  556.])"
      ]
     },
     "execution_count": 14,
     "metadata": {},
     "output_type": "execute_result"
    }
   ],
   "source": [
    "train_target"
   ]
  },
  {
   "cell_type": "code",
   "execution_count": 32,
   "metadata": {},
   "outputs": [
    {
     "ename": "ValueError",
     "evalue": "Expected 2D array, got 1D array instead:\narray=[19.6 22.  18.7 17.4 36.  25.  40.  39.  43.  22.  20.  22.  24.  27.5\n 43.  40.  24.  21.  27.5 40.  32.8 26.5 36.5 13.7 22.7 15.  37.  35.\n 28.7 23.5 39.  21.  23.  22.  44.  22.5 19.  37.  22.  25.6 42.  34.5].\nReshape your data either using array.reshape(-1, 1) if your data has a single feature or array.reshape(1, -1) if it contains a single sample.",
     "output_type": "error",
     "traceback": [
      "\u001b[0;31m---------------------------------------------------------------------------\u001b[0m",
      "\u001b[0;31mValueError\u001b[0m                                Traceback (most recent call last)",
      "Cell \u001b[0;32mIn[32], line 1\u001b[0m\n\u001b[0;32m----> 1\u001b[0m \u001b[43mknrtest\u001b[49m\u001b[43m(\u001b[49m\u001b[38;5;241;43m3\u001b[39;49m\u001b[43m)\u001b[49m\n",
      "Cell \u001b[0;32mIn[8], line 3\u001b[0m, in \u001b[0;36mknrtest\u001b[0;34m(n)\u001b[0m\n\u001b[1;32m      1\u001b[0m \u001b[38;5;28;01mdef\u001b[39;00m \u001b[38;5;21mknrtest\u001b[39m(n):\n\u001b[1;32m      2\u001b[0m     knr \u001b[38;5;241m=\u001b[39m KNeighborsRegressor(n_neighbors\u001b[38;5;241m=\u001b[39mn)\n\u001b[0;32m----> 3\u001b[0m     \u001b[43mknr\u001b[49m\u001b[38;5;241;43m.\u001b[39;49m\u001b[43mfit\u001b[49m\u001b[43m(\u001b[49m\u001b[43mtrain_input\u001b[49m\u001b[43m,\u001b[49m\u001b[43m \u001b[49m\u001b[43mtrain_target\u001b[49m\u001b[43m)\u001b[49m\n",
      "File \u001b[0;32m~/code/fishregression/.venv/lib/python3.11/site-packages/sklearn/base.py:1473\u001b[0m, in \u001b[0;36m_fit_context.<locals>.decorator.<locals>.wrapper\u001b[0;34m(estimator, *args, **kwargs)\u001b[0m\n\u001b[1;32m   1466\u001b[0m     estimator\u001b[38;5;241m.\u001b[39m_validate_params()\n\u001b[1;32m   1468\u001b[0m \u001b[38;5;28;01mwith\u001b[39;00m config_context(\n\u001b[1;32m   1469\u001b[0m     skip_parameter_validation\u001b[38;5;241m=\u001b[39m(\n\u001b[1;32m   1470\u001b[0m         prefer_skip_nested_validation \u001b[38;5;129;01mor\u001b[39;00m global_skip_validation\n\u001b[1;32m   1471\u001b[0m     )\n\u001b[1;32m   1472\u001b[0m ):\n\u001b[0;32m-> 1473\u001b[0m     \u001b[38;5;28;01mreturn\u001b[39;00m \u001b[43mfit_method\u001b[49m\u001b[43m(\u001b[49m\u001b[43mestimator\u001b[49m\u001b[43m,\u001b[49m\u001b[43m \u001b[49m\u001b[38;5;241;43m*\u001b[39;49m\u001b[43margs\u001b[49m\u001b[43m,\u001b[49m\u001b[43m \u001b[49m\u001b[38;5;241;43m*\u001b[39;49m\u001b[38;5;241;43m*\u001b[39;49m\u001b[43mkwargs\u001b[49m\u001b[43m)\u001b[49m\n",
      "File \u001b[0;32m~/code/fishregression/.venv/lib/python3.11/site-packages/sklearn/neighbors/_regression.py:223\u001b[0m, in \u001b[0;36mKNeighborsRegressor.fit\u001b[0;34m(self, X, y)\u001b[0m\n\u001b[1;32m    201\u001b[0m \u001b[38;5;129m@_fit_context\u001b[39m(\n\u001b[1;32m    202\u001b[0m     \u001b[38;5;66;03m# KNeighborsRegressor.metric is not validated yet\u001b[39;00m\n\u001b[1;32m    203\u001b[0m     prefer_skip_nested_validation\u001b[38;5;241m=\u001b[39m\u001b[38;5;28;01mFalse\u001b[39;00m\n\u001b[1;32m    204\u001b[0m )\n\u001b[1;32m    205\u001b[0m \u001b[38;5;28;01mdef\u001b[39;00m \u001b[38;5;21mfit\u001b[39m(\u001b[38;5;28mself\u001b[39m, X, y):\n\u001b[1;32m    206\u001b[0m \u001b[38;5;250m    \u001b[39m\u001b[38;5;124;03m\"\"\"Fit the k-nearest neighbors regressor from the training dataset.\u001b[39;00m\n\u001b[1;32m    207\u001b[0m \n\u001b[1;32m    208\u001b[0m \u001b[38;5;124;03m    Parameters\u001b[39;00m\n\u001b[0;32m   (...)\u001b[0m\n\u001b[1;32m    221\u001b[0m \u001b[38;5;124;03m        The fitted k-nearest neighbors regressor.\u001b[39;00m\n\u001b[1;32m    222\u001b[0m \u001b[38;5;124;03m    \"\"\"\u001b[39;00m\n\u001b[0;32m--> 223\u001b[0m     \u001b[38;5;28;01mreturn\u001b[39;00m \u001b[38;5;28;43mself\u001b[39;49m\u001b[38;5;241;43m.\u001b[39;49m\u001b[43m_fit\u001b[49m\u001b[43m(\u001b[49m\u001b[43mX\u001b[49m\u001b[43m,\u001b[49m\u001b[43m \u001b[49m\u001b[43my\u001b[49m\u001b[43m)\u001b[49m\n",
      "File \u001b[0;32m~/code/fishregression/.venv/lib/python3.11/site-packages/sklearn/neighbors/_base.py:475\u001b[0m, in \u001b[0;36mNeighborsBase._fit\u001b[0;34m(self, X, y)\u001b[0m\n\u001b[1;32m    473\u001b[0m \u001b[38;5;28;01mif\u001b[39;00m \u001b[38;5;28mself\u001b[39m\u001b[38;5;241m.\u001b[39m_get_tags()[\u001b[38;5;124m\"\u001b[39m\u001b[38;5;124mrequires_y\u001b[39m\u001b[38;5;124m\"\u001b[39m]:\n\u001b[1;32m    474\u001b[0m     \u001b[38;5;28;01mif\u001b[39;00m \u001b[38;5;129;01mnot\u001b[39;00m \u001b[38;5;28misinstance\u001b[39m(X, (KDTree, BallTree, NeighborsBase)):\n\u001b[0;32m--> 475\u001b[0m         X, y \u001b[38;5;241m=\u001b[39m \u001b[38;5;28;43mself\u001b[39;49m\u001b[38;5;241;43m.\u001b[39;49m\u001b[43m_validate_data\u001b[49m\u001b[43m(\u001b[49m\n\u001b[1;32m    476\u001b[0m \u001b[43m            \u001b[49m\u001b[43mX\u001b[49m\u001b[43m,\u001b[49m\u001b[43m \u001b[49m\u001b[43my\u001b[49m\u001b[43m,\u001b[49m\u001b[43m \u001b[49m\u001b[43maccept_sparse\u001b[49m\u001b[38;5;241;43m=\u001b[39;49m\u001b[38;5;124;43m\"\u001b[39;49m\u001b[38;5;124;43mcsr\u001b[39;49m\u001b[38;5;124;43m\"\u001b[39;49m\u001b[43m,\u001b[49m\u001b[43m \u001b[49m\u001b[43mmulti_output\u001b[49m\u001b[38;5;241;43m=\u001b[39;49m\u001b[38;5;28;43;01mTrue\u001b[39;49;00m\u001b[43m,\u001b[49m\u001b[43m \u001b[49m\u001b[43morder\u001b[49m\u001b[38;5;241;43m=\u001b[39;49m\u001b[38;5;124;43m\"\u001b[39;49m\u001b[38;5;124;43mC\u001b[39;49m\u001b[38;5;124;43m\"\u001b[39;49m\n\u001b[1;32m    477\u001b[0m \u001b[43m        \u001b[49m\u001b[43m)\u001b[49m\n\u001b[1;32m    479\u001b[0m     \u001b[38;5;28;01mif\u001b[39;00m is_classifier(\u001b[38;5;28mself\u001b[39m):\n\u001b[1;32m    480\u001b[0m         \u001b[38;5;66;03m# Classification targets require a specific format\u001b[39;00m\n\u001b[1;32m    481\u001b[0m         \u001b[38;5;28;01mif\u001b[39;00m y\u001b[38;5;241m.\u001b[39mndim \u001b[38;5;241m==\u001b[39m \u001b[38;5;241m1\u001b[39m \u001b[38;5;129;01mor\u001b[39;00m y\u001b[38;5;241m.\u001b[39mndim \u001b[38;5;241m==\u001b[39m \u001b[38;5;241m2\u001b[39m \u001b[38;5;129;01mand\u001b[39;00m y\u001b[38;5;241m.\u001b[39mshape[\u001b[38;5;241m1\u001b[39m] \u001b[38;5;241m==\u001b[39m \u001b[38;5;241m1\u001b[39m:\n",
      "File \u001b[0;32m~/code/fishregression/.venv/lib/python3.11/site-packages/sklearn/base.py:650\u001b[0m, in \u001b[0;36mBaseEstimator._validate_data\u001b[0;34m(self, X, y, reset, validate_separately, cast_to_ndarray, **check_params)\u001b[0m\n\u001b[1;32m    648\u001b[0m         y \u001b[38;5;241m=\u001b[39m check_array(y, input_name\u001b[38;5;241m=\u001b[39m\u001b[38;5;124m\"\u001b[39m\u001b[38;5;124my\u001b[39m\u001b[38;5;124m\"\u001b[39m, \u001b[38;5;241m*\u001b[39m\u001b[38;5;241m*\u001b[39mcheck_y_params)\n\u001b[1;32m    649\u001b[0m     \u001b[38;5;28;01melse\u001b[39;00m:\n\u001b[0;32m--> 650\u001b[0m         X, y \u001b[38;5;241m=\u001b[39m \u001b[43mcheck_X_y\u001b[49m\u001b[43m(\u001b[49m\u001b[43mX\u001b[49m\u001b[43m,\u001b[49m\u001b[43m \u001b[49m\u001b[43my\u001b[49m\u001b[43m,\u001b[49m\u001b[43m \u001b[49m\u001b[38;5;241;43m*\u001b[39;49m\u001b[38;5;241;43m*\u001b[39;49m\u001b[43mcheck_params\u001b[49m\u001b[43m)\u001b[49m\n\u001b[1;32m    651\u001b[0m     out \u001b[38;5;241m=\u001b[39m X, y\n\u001b[1;32m    653\u001b[0m \u001b[38;5;28;01mif\u001b[39;00m \u001b[38;5;129;01mnot\u001b[39;00m no_val_X \u001b[38;5;129;01mand\u001b[39;00m check_params\u001b[38;5;241m.\u001b[39mget(\u001b[38;5;124m\"\u001b[39m\u001b[38;5;124mensure_2d\u001b[39m\u001b[38;5;124m\"\u001b[39m, \u001b[38;5;28;01mTrue\u001b[39;00m):\n",
      "File \u001b[0;32m~/code/fishregression/.venv/lib/python3.11/site-packages/sklearn/utils/validation.py:1301\u001b[0m, in \u001b[0;36mcheck_X_y\u001b[0;34m(X, y, accept_sparse, accept_large_sparse, dtype, order, copy, force_writeable, force_all_finite, ensure_2d, allow_nd, multi_output, ensure_min_samples, ensure_min_features, y_numeric, estimator)\u001b[0m\n\u001b[1;32m   1296\u001b[0m         estimator_name \u001b[38;5;241m=\u001b[39m _check_estimator_name(estimator)\n\u001b[1;32m   1297\u001b[0m     \u001b[38;5;28;01mraise\u001b[39;00m \u001b[38;5;167;01mValueError\u001b[39;00m(\n\u001b[1;32m   1298\u001b[0m         \u001b[38;5;124mf\u001b[39m\u001b[38;5;124m\"\u001b[39m\u001b[38;5;132;01m{\u001b[39;00mestimator_name\u001b[38;5;132;01m}\u001b[39;00m\u001b[38;5;124m requires y to be passed, but the target y is None\u001b[39m\u001b[38;5;124m\"\u001b[39m\n\u001b[1;32m   1299\u001b[0m     )\n\u001b[0;32m-> 1301\u001b[0m X \u001b[38;5;241m=\u001b[39m \u001b[43mcheck_array\u001b[49m\u001b[43m(\u001b[49m\n\u001b[1;32m   1302\u001b[0m \u001b[43m    \u001b[49m\u001b[43mX\u001b[49m\u001b[43m,\u001b[49m\n\u001b[1;32m   1303\u001b[0m \u001b[43m    \u001b[49m\u001b[43maccept_sparse\u001b[49m\u001b[38;5;241;43m=\u001b[39;49m\u001b[43maccept_sparse\u001b[49m\u001b[43m,\u001b[49m\n\u001b[1;32m   1304\u001b[0m \u001b[43m    \u001b[49m\u001b[43maccept_large_sparse\u001b[49m\u001b[38;5;241;43m=\u001b[39;49m\u001b[43maccept_large_sparse\u001b[49m\u001b[43m,\u001b[49m\n\u001b[1;32m   1305\u001b[0m \u001b[43m    \u001b[49m\u001b[43mdtype\u001b[49m\u001b[38;5;241;43m=\u001b[39;49m\u001b[43mdtype\u001b[49m\u001b[43m,\u001b[49m\n\u001b[1;32m   1306\u001b[0m \u001b[43m    \u001b[49m\u001b[43morder\u001b[49m\u001b[38;5;241;43m=\u001b[39;49m\u001b[43morder\u001b[49m\u001b[43m,\u001b[49m\n\u001b[1;32m   1307\u001b[0m \u001b[43m    \u001b[49m\u001b[43mcopy\u001b[49m\u001b[38;5;241;43m=\u001b[39;49m\u001b[43mcopy\u001b[49m\u001b[43m,\u001b[49m\n\u001b[1;32m   1308\u001b[0m \u001b[43m    \u001b[49m\u001b[43mforce_writeable\u001b[49m\u001b[38;5;241;43m=\u001b[39;49m\u001b[43mforce_writeable\u001b[49m\u001b[43m,\u001b[49m\n\u001b[1;32m   1309\u001b[0m \u001b[43m    \u001b[49m\u001b[43mforce_all_finite\u001b[49m\u001b[38;5;241;43m=\u001b[39;49m\u001b[43mforce_all_finite\u001b[49m\u001b[43m,\u001b[49m\n\u001b[1;32m   1310\u001b[0m \u001b[43m    \u001b[49m\u001b[43mensure_2d\u001b[49m\u001b[38;5;241;43m=\u001b[39;49m\u001b[43mensure_2d\u001b[49m\u001b[43m,\u001b[49m\n\u001b[1;32m   1311\u001b[0m \u001b[43m    \u001b[49m\u001b[43mallow_nd\u001b[49m\u001b[38;5;241;43m=\u001b[39;49m\u001b[43mallow_nd\u001b[49m\u001b[43m,\u001b[49m\n\u001b[1;32m   1312\u001b[0m \u001b[43m    \u001b[49m\u001b[43mensure_min_samples\u001b[49m\u001b[38;5;241;43m=\u001b[39;49m\u001b[43mensure_min_samples\u001b[49m\u001b[43m,\u001b[49m\n\u001b[1;32m   1313\u001b[0m \u001b[43m    \u001b[49m\u001b[43mensure_min_features\u001b[49m\u001b[38;5;241;43m=\u001b[39;49m\u001b[43mensure_min_features\u001b[49m\u001b[43m,\u001b[49m\n\u001b[1;32m   1314\u001b[0m \u001b[43m    \u001b[49m\u001b[43mestimator\u001b[49m\u001b[38;5;241;43m=\u001b[39;49m\u001b[43mestimator\u001b[49m\u001b[43m,\u001b[49m\n\u001b[1;32m   1315\u001b[0m \u001b[43m    \u001b[49m\u001b[43minput_name\u001b[49m\u001b[38;5;241;43m=\u001b[39;49m\u001b[38;5;124;43m\"\u001b[39;49m\u001b[38;5;124;43mX\u001b[39;49m\u001b[38;5;124;43m\"\u001b[39;49m\u001b[43m,\u001b[49m\n\u001b[1;32m   1316\u001b[0m \u001b[43m\u001b[49m\u001b[43m)\u001b[49m\n\u001b[1;32m   1318\u001b[0m y \u001b[38;5;241m=\u001b[39m _check_y(y, multi_output\u001b[38;5;241m=\u001b[39mmulti_output, y_numeric\u001b[38;5;241m=\u001b[39my_numeric, estimator\u001b[38;5;241m=\u001b[39mestimator)\n\u001b[1;32m   1320\u001b[0m check_consistent_length(X, y)\n",
      "File \u001b[0;32m~/code/fishregression/.venv/lib/python3.11/site-packages/sklearn/utils/validation.py:1050\u001b[0m, in \u001b[0;36mcheck_array\u001b[0;34m(array, accept_sparse, accept_large_sparse, dtype, order, copy, force_writeable, force_all_finite, ensure_2d, allow_nd, ensure_min_samples, ensure_min_features, estimator, input_name)\u001b[0m\n\u001b[1;32m   1043\u001b[0m         \u001b[38;5;28;01melse\u001b[39;00m:\n\u001b[1;32m   1044\u001b[0m             msg \u001b[38;5;241m=\u001b[39m (\n\u001b[1;32m   1045\u001b[0m                 \u001b[38;5;124mf\u001b[39m\u001b[38;5;124m\"\u001b[39m\u001b[38;5;124mExpected 2D array, got 1D array instead:\u001b[39m\u001b[38;5;130;01m\\n\u001b[39;00m\u001b[38;5;124marray=\u001b[39m\u001b[38;5;132;01m{\u001b[39;00marray\u001b[38;5;132;01m}\u001b[39;00m\u001b[38;5;124m.\u001b[39m\u001b[38;5;130;01m\\n\u001b[39;00m\u001b[38;5;124m\"\u001b[39m\n\u001b[1;32m   1046\u001b[0m                 \u001b[38;5;124m\"\u001b[39m\u001b[38;5;124mReshape your data either using array.reshape(-1, 1) if \u001b[39m\u001b[38;5;124m\"\u001b[39m\n\u001b[1;32m   1047\u001b[0m                 \u001b[38;5;124m\"\u001b[39m\u001b[38;5;124myour data has a single feature or array.reshape(1, -1) \u001b[39m\u001b[38;5;124m\"\u001b[39m\n\u001b[1;32m   1048\u001b[0m                 \u001b[38;5;124m\"\u001b[39m\u001b[38;5;124mif it contains a single sample.\u001b[39m\u001b[38;5;124m\"\u001b[39m\n\u001b[1;32m   1049\u001b[0m             )\n\u001b[0;32m-> 1050\u001b[0m         \u001b[38;5;28;01mraise\u001b[39;00m \u001b[38;5;167;01mValueError\u001b[39;00m(msg)\n\u001b[1;32m   1052\u001b[0m \u001b[38;5;28;01mif\u001b[39;00m dtype_numeric \u001b[38;5;129;01mand\u001b[39;00m \u001b[38;5;28mhasattr\u001b[39m(array\u001b[38;5;241m.\u001b[39mdtype, \u001b[38;5;124m\"\u001b[39m\u001b[38;5;124mkind\u001b[39m\u001b[38;5;124m\"\u001b[39m) \u001b[38;5;129;01mand\u001b[39;00m array\u001b[38;5;241m.\u001b[39mdtype\u001b[38;5;241m.\u001b[39mkind \u001b[38;5;129;01min\u001b[39;00m \u001b[38;5;124m\"\u001b[39m\u001b[38;5;124mUSV\u001b[39m\u001b[38;5;124m\"\u001b[39m:\n\u001b[1;32m   1053\u001b[0m     \u001b[38;5;28;01mraise\u001b[39;00m \u001b[38;5;167;01mValueError\u001b[39;00m(\n\u001b[1;32m   1054\u001b[0m         \u001b[38;5;124m\"\u001b[39m\u001b[38;5;124mdtype=\u001b[39m\u001b[38;5;124m'\u001b[39m\u001b[38;5;124mnumeric\u001b[39m\u001b[38;5;124m'\u001b[39m\u001b[38;5;124m is not compatible with arrays of bytes/strings.\u001b[39m\u001b[38;5;124m\"\u001b[39m\n\u001b[1;32m   1055\u001b[0m         \u001b[38;5;124m\"\u001b[39m\u001b[38;5;124mConvert your data to numeric values explicitly instead.\u001b[39m\u001b[38;5;124m\"\u001b[39m\n\u001b[1;32m   1056\u001b[0m     )\n",
      "\u001b[0;31mValueError\u001b[0m: Expected 2D array, got 1D array instead:\narray=[19.6 22.  18.7 17.4 36.  25.  40.  39.  43.  22.  20.  22.  24.  27.5\n 43.  40.  24.  21.  27.5 40.  32.8 26.5 36.5 13.7 22.7 15.  37.  35.\n 28.7 23.5 39.  21.  23.  22.  44.  22.5 19.  37.  22.  25.6 42.  34.5].\nReshape your data either using array.reshape(-1, 1) if your data has a single feature or array.reshape(1, -1) if it contains a single sample."
     ]
    }
   ],
   "source": [
    "knrtest(3)"
   ]
  },
  {
   "cell_type": "markdown",
   "metadata": {},
   "source": [
    "## ERR \n",
    "- ValueError: Expected 2D array, got 1D array instead:"
   ]
  },
  {
   "cell_type": "code",
   "execution_count": 38,
   "metadata": {},
   "outputs": [
    {
     "name": "stdout",
     "output_type": "stream",
     "text": [
      "[[1 2]\n",
      " [3 4]]\n",
      "[[1]\n",
      " [2]\n",
      " [3]\n",
      " [4]]\n"
     ]
    }
   ],
   "source": [
    "study_arr = np.array([1,2,3,4])\n",
    "print(study_arr.reshape(2,2))\n",
    "print(study_arr.reshape(-1,1))"
   ]
  },
  {
   "cell_type": "markdown",
   "metadata": {},
   "source": [
    "## reshape -1,1 mean??\n",
    "```python\n",
    "x.reshape(-1,1)=x.reshape(12,1)\n",
    "\n",
    "x.reshape(-1,2)=x.reshape(6,2)\n",
    "\n",
    "x.reshape(-1,3)=x.reshape(4,3)\n",
    "```\n",
    "남은 배열의 길이와 남은 차원으로부터 추정해서 알아서 행을 지정\n",
    "[출처](https://yololife-sy.medium.com/python-reshape-1-1-%EC%97%90%EC%84%9C-1%EC%9D%98-%EC%9D%98%EB%AF%B8-97b713be5230)"
   ]
  },
  {
   "cell_type": "code",
   "execution_count": 60,
   "metadata": {},
   "outputs": [],
   "source": [
    "re_train_input = train_input.reshape(-1,1)\n",
    "re_train_target = train_target.reshape(-1,1)\n",
    "re_test_input = test_input.reshape(-1,1)\n",
    "re_test_target = test_target.reshape(-1,1)"
   ]
  },
  {
   "cell_type": "code",
   "execution_count": 69,
   "metadata": {},
   "outputs": [],
   "source": [
    "def re_knrtest(n):\n",
    "    knr0 = KNeighborsRegressor(n_neighbors=n)\n",
    "    knr0.fit(re_test_input, re_test_target)\n",
    "    print(f\"test : {knr0.score(re_train_input,re_train_target)}\")\n",
    "    knr1 = KNeighborsRegressor(n_neighbors=n)\n",
    "    knr1.fit(re_train_input, re_train_target)\n",
    "    print(f\"train : {knr1.score(re_train_input,re_train_target)}\")\n",
    "    "
   ]
  },
  {
   "cell_type": "code",
   "execution_count": 70,
   "metadata": {},
   "outputs": [
    {
     "name": "stdout",
     "output_type": "stream",
     "text": [
      "############1############\n",
      "test : 0.9182939716265645\n",
      "train : 0.9852830341215901\n",
      "############3############\n",
      "test : 0.9245159652147718\n",
      "train : 0.9804899950518966\n",
      "############5############\n",
      "test : 0.8021745213545217\n",
      "train : 0.9698823289099254\n",
      "############7############\n",
      "test : 0.6590790345973584\n",
      "train : 0.9761170732051527\n"
     ]
    }
   ],
   "source": [
    "for k in [1, 3, 5, 7]:\n",
    "    print(f\"############{k}############\")\n",
    "    re_knrtest(k)"
   ]
  },
  {
   "cell_type": "markdown",
   "metadata": {},
   "source": [
    "#### **수동예측**"
   ]
  },
  {
   "cell_type": "code",
   "execution_count": 100,
   "metadata": {},
   "outputs": [],
   "source": [
    "def pred(k):\n",
    "    knr2 = KNeighborsRegressor(n_neighbors=k)\n",
    "    knr2.fit(re_train_input, re_train_target)\n",
    "    print(f\"k = {k}일때\")\n",
    "    for n in range(len(test_input)):\n",
    "        t_input = test_input[n]\n",
    "        p = knr2.predict(t_input.reshape(-1,1))\n",
    "        print(f\"{n+1}번 예측 사용 무게: {p}\")\n",
    "        print(f\"{n+1}번 실제 사용 무게: {test_target[n]}\")\n",
    "        rate = round(test_target[n]/p[0][0] * 100, 2)\n",
    "        if rate > 100:\n",
    "            rate = round(p[0][0]/test_target[n] * 100, 2)\n",
    "        print(f\"{n+1}번 정확도: {rate}%\")"
   ]
  },
  {
   "cell_type": "code",
   "execution_count": 108,
   "metadata": {},
   "outputs": [
    {
     "name": "stdout",
     "output_type": "stream",
     "text": [
      "k = 1일때\n",
      "1번 예측 사용 무게: [[32.]]\n",
      "1번 실제 사용 무게: 5.9\n",
      "1번 정확도: 18.44%\n",
      "2번 예측 사용 무게: [[70.]]\n",
      "2번 실제 사용 무게: 100.0\n",
      "2번 정확도: 70.0%\n",
      "3번 예측 사용 무게: [[260.]]\n",
      "3번 실제 사용 무게: 250.0\n",
      "3번 정확도: 96.15%\n",
      "4번 예측 사용 무게: [[115.]]\n",
      "4번 실제 사용 무게: 130.0\n",
      "4번 정확도: 88.46%\n",
      "5번 예측 사용 무게: [[150.]]\n",
      "5번 실제 사용 무게: 130.0\n",
      "5번 정확도: 86.67%\n",
      "6번 예측 사용 무게: [[850.]]\n",
      "6번 실제 사용 무게: 820.0\n",
      "6번 정확도: 96.47%\n",
      "7번 예측 사용 무게: [[300.]]\n",
      "7번 실제 사용 무게: 320.0\n",
      "7번 정확도: 93.75%\n",
      "8번 예측 사용 무게: [[180.]]\n",
      "8번 실제 사용 무게: 188.0\n",
      "8번 정확도: 95.74%\n",
      "9번 예측 사용 무게: [[820.]]\n",
      "9번 실제 사용 무게: 900.0\n",
      "9번 정확도: 91.11%\n",
      "10번 예측 사용 무게: [[115.]]\n",
      "10번 실제 사용 무게: 125.0\n",
      "10번 정확도: 92.0%\n",
      "11번 예측 사용 무게: [[1000.]]\n",
      "11번 실제 사용 무게: 1000.0\n",
      "11번 정확도: 100.0%\n",
      "12번 예측 사용 무게: [[70.]]\n",
      "12번 실제 사용 무게: 51.5\n",
      "12번 정확도: 73.57%\n",
      "13번 예측 사용 무게: [[260.]]\n",
      "13번 실제 사용 무게: 250.0\n",
      "13번 정확도: 96.15%\n",
      "14번 예측 사용 무게: [[260.]]\n",
      "14번 실제 사용 무게: 300.0\n",
      "14번 정확도: 86.67%\n",
      "k = 3일때\n",
      "1번 예측 사용 무게: [[47.33333333]]\n",
      "1번 실제 사용 무게: 5.9\n",
      "1번 정확도: 12.46%\n",
      "2번 예측 사용 무게: [[76.]]\n",
      "2번 실제 사용 무게: 100.0\n",
      "2번 정확도: 76.0%\n",
      "3번 예측 사용 무게: [[247.66666667]]\n",
      "3번 실제 사용 무게: 250.0\n",
      "3번 정확도: 99.07%\n",
      "4번 예측 사용 무게: [[120.]]\n",
      "4번 실제 사용 무게: 130.0\n",
      "4번 정확도: 92.31%\n",
      "5번 예측 사용 무게: [[143.33333333]]\n",
      "5번 실제 사용 무게: 130.0\n",
      "5번 정확도: 90.7%\n",
      "6번 예측 사용 무게: [[921.66666667]]\n",
      "6번 실제 사용 무게: 820.0\n",
      "6번 정확도: 88.97%\n",
      "7번 예측 사용 무게: [[275.]]\n",
      "7번 실제 사용 무게: 320.0\n",
      "7번 정확도: 85.94%\n",
      "8번 예측 사용 무게: [[183.33333333]]\n",
      "8번 실제 사용 무게: 188.0\n",
      "8번 정확도: 97.52%\n",
      "9번 예측 사용 무게: [[773.33333333]]\n",
      "9번 실제 사용 무게: 900.0\n",
      "9번 정확도: 85.93%\n",
      "10번 예측 사용 무게: [[120.]]\n",
      "10번 실제 사용 무게: 125.0\n",
      "10번 정확도: 96.0%\n",
      "11번 예측 사용 무게: [[1033.33333333]]\n",
      "11번 실제 사용 무게: 1000.0\n",
      "11번 정확도: 96.77%\n",
      "12번 예측 사용 무게: [[62.66666667]]\n",
      "12번 실제 사용 무게: 51.5\n",
      "12번 정확도: 82.18%\n",
      "13번 예측 사용 무게: [[275.]]\n",
      "13번 실제 사용 무게: 250.0\n",
      "13번 정확도: 90.91%\n",
      "14번 예측 사용 무게: [[247.66666667]]\n",
      "14번 실제 사용 무게: 300.0\n",
      "14번 정확도: 82.56%\n",
      "k = 5일때\n",
      "1번 예측 사용 무게: [[60.]]\n",
      "1번 실제 사용 무게: 5.9\n",
      "1번 정확도: 9.83%\n",
      "2번 예측 사용 무게: [[79.6]]\n",
      "2번 실제 사용 무게: 100.0\n",
      "2번 정확도: 79.6%\n",
      "3번 예측 사용 무게: [[248.]]\n",
      "3번 실제 사용 무게: 250.0\n",
      "3번 정확도: 99.2%\n",
      "4번 예측 사용 무게: [[122.]]\n",
      "4번 실제 사용 무게: 130.0\n",
      "4번 정확도: 93.85%\n",
      "5번 예측 사용 무게: [[136.]]\n",
      "5번 실제 사용 무게: 130.0\n",
      "5번 정확도: 95.59%\n",
      "6번 예측 사용 무게: [[847.]]\n",
      "6번 실제 사용 무게: 820.0\n",
      "6번 정확도: 96.81%\n",
      "7번 예측 사용 무게: [[311.4]]\n",
      "7번 실제 사용 무게: 320.0\n",
      "7번 정확도: 97.31%\n",
      "8번 예측 사용 무게: [[183.4]]\n",
      "8번 실제 사용 무게: 188.0\n",
      "8번 정확도: 97.55%\n",
      "9번 예측 사용 무게: [[847.]]\n",
      "9번 실제 사용 무게: 900.0\n",
      "9번 정확도: 94.11%\n",
      "10번 예측 사용 무게: [[113.]]\n",
      "10번 실제 사용 무게: 125.0\n",
      "10번 정확도: 90.4%\n",
      "11번 예측 사용 무게: [[1010.]]\n",
      "11번 실제 사용 무게: 1000.0\n",
      "11번 정확도: 99.01%\n",
      "12번 예측 사용 무게: [[60.]]\n",
      "12번 실제 사용 무게: 51.5\n",
      "12번 정확도: 85.83%\n",
      "13번 예측 사용 무게: [[248.]]\n",
      "13번 실제 사용 무게: 250.0\n",
      "13번 정확도: 99.2%\n",
      "14번 예측 사용 무게: [[248.]]\n",
      "14번 실제 사용 무게: 300.0\n",
      "14번 정확도: 82.67%\n",
      "k = 7일때\n",
      "1번 예측 사용 무게: [[67.14285714]]\n",
      "1번 실제 사용 무게: 5.9\n",
      "1번 정확도: 8.79%\n",
      "2번 예측 사용 무게: [[79.]]\n",
      "2번 실제 사용 무게: 100.0\n",
      "2번 정확도: 79.0%\n",
      "3번 예측 사용 무게: [[235.]]\n",
      "3번 실제 사용 무게: 250.0\n",
      "3번 정확도: 94.0%\n",
      "4번 예측 사용 무게: [[120.]]\n",
      "4번 실제 사용 무게: 130.0\n",
      "4번 정확도: 92.31%\n",
      "5번 예측 사용 무게: [[134.28571429]]\n",
      "5번 실제 사용 무게: 130.0\n",
      "5번 정확도: 96.81%\n",
      "6번 예측 사용 무게: [[919.28571429]]\n",
      "6번 실제 사용 무게: 820.0\n",
      "6번 정확도: 89.2%\n",
      "7번 예측 사용 무게: [[330.]]\n",
      "7번 실제 사용 무게: 320.0\n",
      "7번 정확도: 96.97%\n",
      "8번 예측 사용 무게: [[183.57142857]]\n",
      "8번 실제 사용 무게: 188.0\n",
      "8번 정확도: 97.64%\n",
      "9번 예측 사용 무게: [[803.57142857]]\n",
      "9번 실제 사용 무게: 900.0\n",
      "9번 정확도: 89.29%\n",
      "10번 예측 사용 무게: [[115.]]\n",
      "10번 실제 사용 무게: 125.0\n",
      "10번 정확도: 92.0%\n",
      "11번 예측 사용 무게: [[995.]]\n",
      "11번 실제 사용 무게: 1000.0\n",
      "11번 정확도: 99.5%\n",
      "12번 예측 사용 무게: [[67.14285714]]\n",
      "12번 실제 사용 무게: 51.5\n",
      "12번 정확도: 76.7%\n",
      "13번 예측 사용 무게: [[223.57142857]]\n",
      "13번 실제 사용 무게: 250.0\n",
      "13번 정확도: 89.43%\n",
      "14번 예측 사용 무게: [[223.57142857]]\n",
      "14번 실제 사용 무게: 300.0\n",
      "14번 정확도: 74.52%\n",
      "k = 10일때\n",
      "1번 예측 사용 무게: [[81.5]]\n",
      "1번 실제 사용 무게: 5.9\n",
      "1번 정확도: 7.24%\n",
      "2번 예측 사용 무게: [[91.3]]\n",
      "2번 실제 사용 무게: 100.0\n",
      "2번 정확도: 91.3%\n",
      "3번 예측 사용 무게: [[211.]]\n",
      "3번 실제 사용 무게: 250.0\n",
      "3번 정확도: 84.4%\n",
      "4번 예측 사용 무게: [[122.]]\n",
      "4번 실제 사용 무게: 130.0\n",
      "4번 정확도: 93.85%\n",
      "5번 예측 사용 무게: [[134.]]\n",
      "5번 실제 사용 무게: 130.0\n",
      "5번 정확도: 97.01%\n",
      "6번 예측 사용 무게: [[882.5]]\n",
      "6번 실제 사용 무게: 820.0\n",
      "6번 정확도: 92.92%\n",
      "7번 예측 사용 무게: [[347.5]]\n",
      "7번 실제 사용 무게: 320.0\n",
      "7번 정확도: 92.09%\n",
      "8번 예측 사용 무게: [[171.]]\n",
      "8번 실제 사용 무게: 188.0\n",
      "8번 정확도: 90.96%\n",
      "9번 예측 사용 무게: [[811.]]\n",
      "9번 실제 사용 무게: 900.0\n",
      "9번 정확도: 90.11%\n",
      "10번 예측 사용 무게: [[116.]]\n",
      "10번 실제 사용 무게: 125.0\n",
      "10번 정확도: 92.8%\n",
      "11번 예측 사용 무게: [[912.5]]\n",
      "11번 실제 사용 무게: 1000.0\n",
      "11번 정확도: 91.25%\n",
      "12번 예측 사용 무게: [[81.5]]\n",
      "12번 실제 사용 무게: 51.5\n",
      "12번 정확도: 63.19%\n",
      "13번 예측 사용 무게: [[247.4]]\n",
      "13번 실제 사용 무게: 250.0\n",
      "13번 정확도: 98.96%\n",
      "14번 예측 사용 무게: [[211.]]\n",
      "14번 실제 사용 무게: 300.0\n",
      "14번 정확도: 70.33%\n",
      "k = 15일때\n",
      "1번 예측 사용 무게: [[97.33333333]]\n",
      "1번 실제 사용 무게: 5.9\n",
      "1번 정확도: 6.06%\n",
      "2번 예측 사용 무게: [[97.33333333]]\n",
      "2번 실제 사용 무게: 100.0\n",
      "2번 정확도: 97.33%\n",
      "3번 예측 사용 무게: [[211.26666667]]\n",
      "3번 실제 사용 무게: 250.0\n",
      "3번 정확도: 84.51%\n",
      "4번 예측 사용 무게: [[118.86666667]]\n",
      "4번 실제 사용 무게: 130.0\n",
      "4번 정확도: 91.44%\n",
      "5번 예측 사용 무게: [[139.33333333]]\n",
      "5번 실제 사용 무게: 130.0\n",
      "5번 정확도: 93.3%\n",
      "6번 예측 사용 무게: [[840.4]]\n",
      "6번 실제 사용 무게: 820.0\n",
      "6번 정확도: 97.57%\n",
      "7번 예측 사용 무게: [[396.33333333]]\n",
      "7번 실제 사용 무게: 320.0\n",
      "7번 정확도: 80.74%\n",
      "8번 예측 사용 무게: [[164.]]\n",
      "8번 실제 사용 무게: 188.0\n",
      "8번 정확도: 87.23%\n",
      "9번 예측 사용 무게: [[840.4]]\n",
      "9번 실제 사용 무게: 900.0\n",
      "9번 정확도: 93.38%\n",
      "10번 예측 사용 무게: [[118.86666667]]\n",
      "10번 실제 사용 무게: 125.0\n",
      "10번 정확도: 95.09%\n",
      "11번 예측 사용 무게: [[840.4]]\n",
      "11번 실제 사용 무게: 1000.0\n",
      "11번 정확도: 84.04%\n",
      "12번 예측 사용 무게: [[97.33333333]]\n",
      "12번 실제 사용 무게: 51.5\n",
      "12번 정확도: 52.91%\n",
      "13번 예측 사용 무게: [[211.26666667]]\n",
      "13번 실제 사용 무게: 250.0\n",
      "13번 정확도: 84.51%\n",
      "14번 예측 사용 무게: [[186.]]\n",
      "14번 실제 사용 무게: 300.0\n",
      "14번 정확도: 62.0%\n",
      "k = 21일때\n",
      "1번 예측 사용 무게: [[117.85714286]]\n",
      "1번 실제 사용 무게: 5.9\n",
      "1번 정확도: 5.01%\n",
      "2번 예측 사용 무게: [[117.85714286]]\n",
      "2번 실제 사용 무게: 100.0\n",
      "2번 정확도: 84.85%\n",
      "3번 예측 사용 무게: [[205.47619048]]\n",
      "3번 실제 사용 무게: 250.0\n",
      "3번 정확도: 82.19%\n",
      "4번 예측 사용 무게: [[134.19047619]]\n",
      "4번 실제 사용 무게: 130.0\n",
      "4번 정확도: 96.88%\n",
      "5번 예측 사용 무게: [[143.47619048]]\n",
      "5번 실제 사용 무게: 130.0\n",
      "5번 정확도: 90.61%\n",
      "6번 예측 사용 무게: [[683.80952381]]\n",
      "6번 실제 사용 무게: 820.0\n",
      "6번 정확도: 83.39%\n",
      "7번 예측 사용 무게: [[348.57142857]]\n",
      "7번 실제 사용 무게: 320.0\n",
      "7번 정확도: 91.8%\n",
      "8번 예측 사용 무게: [[162.61904762]]\n",
      "8번 실제 사용 무게: 188.0\n",
      "8번 정확도: 86.5%\n",
      "9번 예측 사용 무게: [[683.80952381]]\n",
      "9번 실제 사용 무게: 900.0\n",
      "9번 정확도: 75.98%\n",
      "10번 예측 사용 무게: [[134.19047619]]\n",
      "10번 실제 사용 무게: 125.0\n",
      "10번 정확도: 93.15%\n",
      "11번 예측 사용 무게: [[683.80952381]]\n",
      "11번 실제 사용 무게: 1000.0\n",
      "11번 정확도: 68.38%\n",
      "12번 예측 사용 무게: [[117.85714286]]\n",
      "12번 실제 사용 무게: 51.5\n",
      "12번 정확도: 43.7%\n",
      "13번 예측 사용 무게: [[205.47619048]]\n",
      "13번 실제 사용 무게: 250.0\n",
      "13번 정확도: 82.19%\n",
      "14번 예측 사용 무게: [[205.47619048]]\n",
      "14번 실제 사용 무게: 300.0\n",
      "14번 정확도: 68.49%\n"
     ]
    }
   ],
   "source": [
    "for k in [1,3,5,7,10,15,21]:\n",
    "    pred(k)"
   ]
  },
  {
   "cell_type": "markdown",
   "metadata": {},
   "source": [
    "### 그래프로 그려보기"
   ]
  },
  {
   "cell_type": "code",
   "execution_count": 102,
   "metadata": {},
   "outputs": [],
   "source": [
    "knr3 = KNeighborsRegressor()\n",
    "x = np.arange(5,45).reshape(-1,1)"
   ]
  },
  {
   "cell_type": "code",
   "execution_count": null,
   "metadata": {},
   "outputs": [],
   "source": [
    "for k in [1,3,5,7,10,15,21]:\n",
    "    knr.n_neighbors = k\n",
    "    knr3.fit(re_train_input, re_train_target)\n",
    "    prediction = knr3.predict(x)\n",
    "    # 결정계수 R^2\n",
    "    s_train = knr3.score(re_train_input, re_train_target)\n",
    "    s_test = knr3.score(re_test_input, re_test_target)\n",
    "    \n",
    "    plt.title(f\"k = {k}, R^2 = {round(s_train - s_test, 3)}\")\n",
    "    plt.scatter(re_train_input, re_train_target)\n",
    "    plt.plot(x, prediction)\n",
    "    plt.show()\n",
    "    "
   ]
  },
  {
   "cell_type": "code",
   "execution_count": 119,
   "metadata": {},
   "outputs": [
    {
     "name": "stdout",
     "output_type": "stream",
     "text": [
      "1\n",
      "[[47.33333333]]\n",
      "2\n",
      "[[47.33333333]]\n",
      "3\n",
      "[[47.33333333]]\n",
      "4\n",
      "[[47.33333333]]\n",
      "5\n",
      "[[47.33333333]]\n",
      "6\n",
      "[[47.33333333]]\n",
      "7\n",
      "[[47.33333333]]\n",
      "8\n",
      "[[47.33333333]]\n",
      "9\n",
      "[[47.33333333]]\n",
      "10\n",
      "[[47.33333333]]\n",
      "11\n",
      "[[47.33333333]]\n",
      "12\n",
      "[[47.33333333]]\n",
      "13\n",
      "[[47.33333333]]\n",
      "14\n",
      "[[47.33333333]]\n",
      "15\n",
      "[[47.33333333]]\n",
      "16\n",
      "[[47.33333333]]\n",
      "17\n",
      "[[62.66666667]]\n",
      "18\n",
      "[[76.]]\n",
      "19\n",
      "[[81.]]\n",
      "20\n",
      "[[95.]]\n",
      "21\n",
      "[[120.]]\n",
      "22\n",
      "[[128.33333333]]\n",
      "23\n",
      "[[155.]]\n",
      "24\n",
      "[[180.]]\n",
      "25\n",
      "[[200.66666667]]\n",
      "26\n",
      "[[198.33333333]]\n",
      "27\n",
      "[[247.66666667]]\n",
      "28\n",
      "[[275.]]\n",
      "29\n",
      "[[275.]]\n",
      "30\n",
      "[[275.]]\n",
      "31\n",
      "[[358.]]\n",
      "32\n",
      "[[636.66666667]]\n",
      "33\n",
      "[[636.66666667]]\n",
      "34\n",
      "[[636.66666667]]\n",
      "35\n",
      "[[698.66666667]]\n",
      "36\n",
      "[[691.66666667]]\n",
      "37\n",
      "[[691.66666667]]\n",
      "38\n",
      "[[720.]]\n",
      "39\n",
      "[[773.33333333]]\n",
      "40\n",
      "[[921.66666667]]\n",
      "41\n",
      "[[921.66666667]]\n",
      "42\n",
      "[[1066.66666667]]\n",
      "43\n",
      "[[1033.33333333]]\n",
      "44\n",
      "[[1033.33333333]]\n",
      "45\n",
      "[[1033.33333333]]\n",
      "46\n",
      "[[1033.33333333]]\n",
      "47\n",
      "[[1033.33333333]]\n",
      "48\n",
      "[[1033.33333333]]\n",
      "49\n",
      "[[1033.33333333]]\n",
      "50\n",
      "[[1033.33333333]]\n",
      "51\n",
      "[[1033.33333333]]\n",
      "52\n",
      "[[1033.33333333]]\n",
      "53\n",
      "[[1033.33333333]]\n",
      "54\n",
      "[[1033.33333333]]\n",
      "55\n",
      "[[1033.33333333]]\n",
      "56\n",
      "[[1033.33333333]]\n",
      "57\n",
      "[[1033.33333333]]\n",
      "58\n",
      "[[1033.33333333]]\n",
      "59\n",
      "[[1033.33333333]]\n",
      "60\n",
      "[[1033.33333333]]\n",
      "61\n",
      "[[1033.33333333]]\n",
      "62\n",
      "[[1033.33333333]]\n",
      "63\n",
      "[[1033.33333333]]\n",
      "64\n",
      "[[1033.33333333]]\n",
      "65\n",
      "[[1033.33333333]]\n",
      "66\n",
      "[[1033.33333333]]\n",
      "67\n",
      "[[1033.33333333]]\n",
      "68\n",
      "[[1033.33333333]]\n",
      "69\n",
      "[[1033.33333333]]\n",
      "70\n",
      "[[1033.33333333]]\n",
      "71\n",
      "[[1033.33333333]]\n",
      "72\n",
      "[[1033.33333333]]\n",
      "73\n",
      "[[1033.33333333]]\n",
      "74\n",
      "[[1033.33333333]]\n",
      "75\n",
      "[[1033.33333333]]\n",
      "76\n",
      "[[1033.33333333]]\n",
      "77\n",
      "[[1033.33333333]]\n",
      "78\n",
      "[[1033.33333333]]\n",
      "79\n",
      "[[1033.33333333]]\n",
      "80\n",
      "[[1033.33333333]]\n",
      "81\n",
      "[[1033.33333333]]\n",
      "82\n",
      "[[1033.33333333]]\n",
      "83\n",
      "[[1033.33333333]]\n",
      "84\n",
      "[[1033.33333333]]\n",
      "85\n",
      "[[1033.33333333]]\n",
      "86\n",
      "[[1033.33333333]]\n",
      "87\n",
      "[[1033.33333333]]\n",
      "88\n",
      "[[1033.33333333]]\n",
      "89\n",
      "[[1033.33333333]]\n",
      "90\n",
      "[[1033.33333333]]\n",
      "91\n",
      "[[1033.33333333]]\n",
      "92\n",
      "[[1033.33333333]]\n",
      "93\n",
      "[[1033.33333333]]\n",
      "94\n",
      "[[1033.33333333]]\n",
      "95\n",
      "[[1033.33333333]]\n",
      "96\n",
      "[[1033.33333333]]\n",
      "97\n",
      "[[1033.33333333]]\n",
      "98\n",
      "[[1033.33333333]]\n",
      "99\n",
      "[[1033.33333333]]\n"
     ]
    }
   ],
   "source": [
    "knr4 = KNeighborsRegressor()\n",
    "knr4.n_neighbors = 3\n",
    "knr4.fit(re_train_input, re_train_target)\n",
    "for n in range(1,100):\n",
    "    print(n)\n",
    "    print(knr4.predict([[n]]))\n",
    "    \n",
    "# print(knr4.predict([[45]]))\n",
    "# print(knr4.predict([[46]]))\n",
    "# print(knr4.predict([[47]]))\n",
    "# print(knr4.predict([[48]]))\n",
    "# print(knr4.predict([[49]]))"
   ]
  },
  {
   "cell_type": "markdown",
   "metadata": {},
   "source": [
    "### **이웃을 찾아 차트로 그리기**"
   ]
  },
  {
   "cell_type": "code",
   "execution_count": 135,
   "metadata": {},
   "outputs": [
    {
     "name": "stdout",
     "output_type": "stream",
     "text": [
      "[array([1000.]), array([1100.]), array([1000.]), array([1100.]), array([1015.]), array([900.]), array([850.]), array([820.]), array([650.]), array([700.]), array([690.]), array([685.]), array([700.]), array([840.]), array([556.]), array([514.]), array([300.]), array([265.]), array([260.]), array([218.]), array([197.])]\n"
     ]
    }
   ],
   "source": [
    "d, i = knr.kneighbors([[50]])\n",
    "re_train_neighbors = [re_train_target[idx] for idx in i[0]]\n",
    "print(re_train_neighbors)"
   ]
  },
  {
   "cell_type": "code",
   "execution_count": 143,
   "metadata": {},
   "outputs": [
    {
     "data": {
      "image/png": "[encoded data removed]",
      "text/plain": [
       "<Figure size 640x480 with 1 Axes>"
      ]
     },
     "metadata": {},
     "output_type": "display_data"
    }
   ],
   "source": [
    "d, i = knr.kneighbors([[50]])\n",
    "# 훈련데이터의 산점도 가가\n",
    "plt.scatter(re_train_input, re_train_target) #전체\n",
    "plt.scatter(50, 1033.3333333, marker=\"^\")# 50이상인 값\n",
    "plt.scatter(100, 1033.3333333, marker=\"^\")# 50이상인 값\n",
    "\n",
    "re_train_input_neighbors = [[re_train_input[idx] for idx in i[0][:3]]] #전체 중 3개\n",
    "re_train_target_neighbors = [[re_train_target[idx] for idx in i[0][:3]]] #전체 중 3개\n",
    "plt.scatter(re_train_input_neighbors, re_train_target_neighbors, marker=\"*\")\n",
    "plt.xlabel(\"length\")\n",
    "plt.ylabel(\"weight\")\n",
    "plt.show()"
   ]
  },
  {
   "cell_type": "markdown",
   "metadata": {},
   "source": [
    "### length == 50 과 가장 가까운 3개의 데이터들의 평균"
   ]
  },
  {
   "cell_type": "code",
   "execution_count": 156,
   "metadata": {},
   "outputs": [
    {
     "name": "stdout",
     "output_type": "stream",
     "text": [
      "43 1033.3333333333333\n"
     ]
    }
   ],
   "source": [
    "ln = int(np.mean(re_train_input_neighbors[0]))\n",
    "wg = float(np.mean(re_train_target_neighbors[0]))\n",
    "\n",
    "print(ln, wg)"
   ]
  },
  {
   "cell_type": "code",
   "execution_count": null,
   "metadata": {},
   "outputs": [],
   "source": []
  }
 ],
 "metadata": {
  "kernelspec": {
   "display_name": "Python 3 (ipykernel)",
   "language": "python",
   "name": "python3"
  },
  "language_info": {
   "codemirror_mode": {
    "name": "ipython",
    "version": 3
   },
   "file_extension": ".py",
   "mimetype": "text/x-python",
   "name": "python",
   "nbconvert_exporter": "python",
   "pygments_lexer": "ipython3",
   "version": "3.11.9"
  }
 },
 "nbformat": 4,
 "nbformat_minor": 4
}
